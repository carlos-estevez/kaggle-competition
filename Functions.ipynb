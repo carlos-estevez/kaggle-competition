{
 "cells": [
  {
   "cell_type": "code",
   "execution_count": null,
   "metadata": {},
   "outputs": [],
   "source": [
    "#Transform column to numeric data\n",
    "def tonumber(columna):\n",
    "    for e,i in enumerate(columna):\n",
    "        f\"train_df[{columna}]\" = f\"train_df[{columna}]\".replace(i,e)"
   ]
  },
  {
   "cell_type": "code",
   "execution_count": null,
   "metadata": {},
   "outputs": [],
   "source": [
    "# Split data so we can train&test our model\n",
    "def preparesample(skr):    \n",
    "    from sklearn.model_selection import train_test_split\n",
    "    diamonds = pd.read_csv(\"inputs/cleantrain.csv\")\n",
    "    diamonds.drop(columns=[\"price\"])\n",
    "    X = diamonds.columns\n",
    "    y = diamonds[\"price\"]\n",
    "\n",
    "    X_train, X_test, y_train, y_test = train_test_split(X, y, test_size=0.2)\n",
    "    print(X_train.shape, X_test.shape, y_train.shape, y_test.shape)"
   ]
  }
 ],
 "metadata": {
  "kernelspec": {
   "display_name": "Python 3",
   "language": "python",
   "name": "python3"
  },
  "language_info": {
   "codemirror_mode": {
    "name": "ipython",
    "version": 3
   },
   "file_extension": ".py",
   "mimetype": "text/x-python",
   "name": "python",
   "nbconvert_exporter": "python",
   "pygments_lexer": "ipython3",
   "version": "3.7.7"
  }
 },
 "nbformat": 4,
 "nbformat_minor": 4
}
